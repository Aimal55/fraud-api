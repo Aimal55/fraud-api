{
 "cells": [
  {
   "cell_type": "markdown",
   "id": "4475349b",
   "metadata": {},
   "source": [
    "LOADING DATA"
   ]
  },
  {
   "cell_type": "code",
   "execution_count": 23,
   "id": "165fe3f7",
   "metadata": {},
   "outputs": [],
   "source": [
    "import pandas as pd\n",
    "import os\n",
    "import numpy as np\n",
    "\n",
    "script_dir = os.getcwd()  \n",
    "parent_dir = os.path.dirname(script_dir)  \n",
    "\n",
    "\n",
    "transactions_dir = os.path.join(parent_dir, \"dataset\", \"transactions\")\n",
    "\n",
    "\n",
    "csv_path = os.path.join(transactions_dir, \"transactions.csv\")\n",
    "\n",
    "df = pd.read_csv(csv_path)\n",
    "\n",
    "\n"
   ]
  },
  {
   "cell_type": "code",
   "execution_count": 10,
   "id": "b75cec14",
   "metadata": {},
   "outputs": [
    {
     "name": "stdout",
     "output_type": "stream",
     "text": [
      "Shape Of Data: (8010, 5)\n"
     ]
    }
   ],
   "source": [
    "print(\"Shape Of Data:\", df.shape)"
   ]
  },
  {
   "cell_type": "code",
   "execution_count": 11,
   "id": "b84e5eef",
   "metadata": {},
   "outputs": [
    {
     "data": {
      "text/html": [
       "<div>\n",
       "<style scoped>\n",
       "    .dataframe tbody tr th:only-of-type {\n",
       "        vertical-align: middle;\n",
       "    }\n",
       "\n",
       "    .dataframe tbody tr th {\n",
       "        vertical-align: top;\n",
       "    }\n",
       "\n",
       "    .dataframe thead th {\n",
       "        text-align: right;\n",
       "    }\n",
       "</style>\n",
       "<table border=\"1\" class=\"dataframe\">\n",
       "  <thead>\n",
       "    <tr style=\"text-align: right;\">\n",
       "      <th></th>\n",
       "      <th>amount</th>\n",
       "      <th>bin</th>\n",
       "      <th>device_id</th>\n",
       "      <th>geo</th>\n",
       "      <th>label</th>\n",
       "    </tr>\n",
       "  </thead>\n",
       "  <tbody>\n",
       "    <tr>\n",
       "      <th>0</th>\n",
       "      <td>438.450148</td>\n",
       "      <td>123456</td>\n",
       "      <td>device_554</td>\n",
       "      <td>(25.104065865001626, 66.95921304140683)</td>\n",
       "      <td>0.0</td>\n",
       "    </tr>\n",
       "    <tr>\n",
       "      <th>1</th>\n",
       "      <td>178.152618</td>\n",
       "      <td>111111</td>\n",
       "      <td>device_6780</td>\n",
       "      <td>(25.037533769731382, 66.9607476689058)</td>\n",
       "      <td>0.0</td>\n",
       "    </tr>\n",
       "    <tr>\n",
       "      <th>2</th>\n",
       "      <td>374.443790</td>\n",
       "      <td>111111</td>\n",
       "      <td>device_3101</td>\n",
       "      <td>(25.131175294991905, 67.05840662365058)</td>\n",
       "      <td>0.0</td>\n",
       "    </tr>\n",
       "    <tr>\n",
       "      <th>3</th>\n",
       "      <td>103.388384</td>\n",
       "      <td>654321</td>\n",
       "      <td>device_7048</td>\n",
       "      <td>(25.00245185568905, 67.05504993224076)</td>\n",
       "      <td>0.0</td>\n",
       "    </tr>\n",
       "    <tr>\n",
       "      <th>4</th>\n",
       "      <td>256.053440</td>\n",
       "      <td>111111</td>\n",
       "      <td>device_2605</td>\n",
       "      <td>(25.03590870114692, 67.00224039599291)</td>\n",
       "      <td>0.0</td>\n",
       "    </tr>\n",
       "  </tbody>\n",
       "</table>\n",
       "</div>"
      ],
      "text/plain": [
       "       amount     bin    device_id                                      geo  \\\n",
       "0  438.450148  123456   device_554  (25.104065865001626, 66.95921304140683)   \n",
       "1  178.152618  111111  device_6780   (25.037533769731382, 66.9607476689058)   \n",
       "2  374.443790  111111  device_3101  (25.131175294991905, 67.05840662365058)   \n",
       "3  103.388384  654321  device_7048   (25.00245185568905, 67.05504993224076)   \n",
       "4  256.053440  111111  device_2605   (25.03590870114692, 67.00224039599291)   \n",
       "\n",
       "   label  \n",
       "0    0.0  \n",
       "1    0.0  \n",
       "2    0.0  \n",
       "3    0.0  \n",
       "4    0.0  "
      ]
     },
     "execution_count": 11,
     "metadata": {},
     "output_type": "execute_result"
    }
   ],
   "source": [
    "df.head()"
   ]
  },
  {
   "cell_type": "code",
   "execution_count": 12,
   "id": "0e33d5da",
   "metadata": {},
   "outputs": [
    {
     "name": "stdout",
     "output_type": "stream",
     "text": [
      "<class 'pandas.core.frame.DataFrame'>\n",
      "RangeIndex: 8010 entries, 0 to 8009\n",
      "Data columns (total 5 columns):\n",
      " #   Column     Non-Null Count  Dtype  \n",
      "---  ------     --------------  -----  \n",
      " 0   amount     8010 non-null   float64\n",
      " 1   bin        8010 non-null   int64  \n",
      " 2   device_id  8010 non-null   object \n",
      " 3   geo        8010 non-null   object \n",
      " 4   label      8010 non-null   float64\n",
      "dtypes: float64(2), int64(1), object(2)\n",
      "memory usage: 313.0+ KB\n"
     ]
    }
   ],
   "source": [
    "df.info()"
   ]
  },
  {
   "cell_type": "code",
   "execution_count": 13,
   "id": "81696c4c",
   "metadata": {},
   "outputs": [
    {
     "name": "stdout",
     "output_type": "stream",
     "text": [
      "\n",
      "Class distribution:\n",
      "label\n",
      "0.0    8000\n",
      "1.0      10\n",
      "Name: count, dtype: int64\n"
     ]
    },
    {
     "data": {
      "image/png": "[encoded data removed]",
      "text/plain": [
       "<Figure size 500x400 with 1 Axes>"
      ]
     },
     "metadata": {},
     "output_type": "display_data"
    }
   ],
   "source": [
    "import matplotlib.pyplot as plt\n",
    "import seaborn as sns\n",
    "\n",
    "print(\"\\nClass distribution:\")\n",
    "class_counts = df['label'].value_counts()\n",
    "print(class_counts)\n",
    "\n",
    "plt.figure(figsize=(5, 4))\n",
    "ax = sns.barplot(x=class_counts.index, y=class_counts.values)\n",
    "plt.title(\"Fraud vs Legit Class Count\")\n",
    "plt.xticks([0, 1], [\"Legit (0)\", \"Fraud (1)\"])\n",
    "plt.ylabel(\"Count\")\n",
    "for p in ax.patches:\n",
    "    ax.annotate(f\"{int(p.get_height())}\", (p.get_x() + p.get_width()/2., p.get_height()),\n",
    "                ha='center', va='bottom', fontsize=10, color=\"black\")\n",
    "plt.show()"
   ]
  },
  {
   "cell_type": "code",
   "execution_count": null,
   "id": "868846ff",
   "metadata": {},
   "outputs": [],
   "source": [
    "As mentioned in assignment the class imbalance is according to it 8000 legit and 10 fraud case "
   ]
  },
  {
   "cell_type": "code",
   "execution_count": 15,
   "id": "5cc538f5",
   "metadata": {},
   "outputs": [
    {
     "name": "stdout",
     "output_type": "stream",
     "text": [
      "5 BINs:\n",
      " bin\n",
      "654321    2707\n",
      "123456    2655\n",
      "111111    2648\n",
      "Name: count, dtype: int64\n"
     ]
    }
   ],
   "source": [
    "print(\"5 BINs:\\n\", df[\"bin\"].value_counts().head())\n"
   ]
  },
  {
   "cell_type": "code",
   "execution_count": 18,
   "id": "29bbe150",
   "metadata": {},
   "outputs": [
    {
     "name": "stdout",
     "output_type": "stream",
     "text": [
      "\n",
      " Correlation matrix:\n",
      "          amount       bin     label\n",
      "amount  1.000000  0.000785  0.077036\n",
      "bin     0.000785  1.000000  0.019582\n",
      "label   0.077036  0.019582  1.000000\n"
     ]
    },
    {
     "data": {
      "image/png": "[encoded data removed]",
      "text/plain": [
       "<Figure size 640x480 with 2 Axes>"
      ]
     },
     "metadata": {},
     "output_type": "display_data"
    }
   ],
   "source": [
    "print(\"\\n Correlation matrix:\")\n",
    "print(df[[\"amount\", \"bin\", \"label\"]].corr())\n",
    "sns.heatmap(df[[\"amount\", \"bin\", \"label\"]].corr(), annot=True, cmap=\"coolwarm\")\n",
    "plt.title(\"Correlation Heatmap\")\n",
    "plt.show()"
   ]
  },
  {
   "cell_type": "code",
   "execution_count": null,
   "id": "7de7d400",
   "metadata": {},
   "outputs": [],
   "source": [
    "Co Relation Matrix showing bin have low signal for detcing and amount have high"
   ]
  },
  {
   "cell_type": "code",
   "execution_count": 30,
   "id": "c50278a3",
   "metadata": {},
   "outputs": [
    {
     "name": "stdout",
     "output_type": "stream",
     "text": [
      "Legit Transaction Amounts:\n",
      "count    8000.000000\n",
      "mean      247.899206\n",
      "std       144.207477\n",
      "min         1.005806\n",
      "25%       122.427911\n",
      "50%       247.010202\n",
      "75%       371.873328\n",
      "max       499.859119\n",
      "Name: amount, dtype: float64\n",
      "\n",
      "Fraud Transaction Amounts:\n",
      "count     10.000000\n",
      "mean     563.489290\n",
      "std      174.754925\n",
      "min      308.448543\n",
      "25%      410.948266\n",
      "50%      585.630034\n",
      "75%      677.758907\n",
      "max      831.830867\n",
      "Name: amount, dtype: float64\n"
     ]
    }
   ],
   "source": [
    "#  Split legit and fraud transactions\n",
    "legit_amounts = df[df[\"label\"] == 0][\"amount\"]\n",
    "fraud_amounts = df[df[\"label\"] == 1][\"amount\"]\n",
    "\n",
    "#  Print summary statistics\n",
    "print(\"Legit Transaction Amounts:\")\n",
    "print(legit_amounts.describe())\n",
    "print(\"\\nFraud Transaction Amounts:\")\n",
    "print(fraud_amounts.describe())\n",
    "\n"
   ]
  },
  {
   "cell_type": "markdown",
   "id": "05fc8956",
   "metadata": {},
   "source": [
    "Fraud have high mean indicating high amount than usual wereused in transaction\n"
   ]
  },
  {
   "cell_type": "code",
   "execution_count": null,
   "id": "9f578644",
   "metadata": {},
   "outputs": [
    {
     "name": "stdout",
     "output_type": "stream",
     "text": [
      "\n",
      "Fraud devices used multiple times:\n",
      "\n",
      "device_id\n",
      "fraud_device_2    2\n",
      "fraud_device_0    2\n",
      "fraud_device_1    2\n",
      "Name: count, dtype: int64\n"
     ]
    },
    {
     "data": {
      "image/png": "[encoded data removed]",
      "text/plain": [
       "<Figure size 800x400 with 1 Axes>"
      ]
     },
     "metadata": {},
     "output_type": "display_data"
    }
   ],
   "source": [
    "#  Count device usage for fraud transactions only\n",
    "fraud_devices = df[df[\"label\"] == 1][\"device_id\"].value_counts()\n",
    "\n",
    "#  Filter for devices used more than once\n",
    "fraud_reused = fraud_devices[fraud_devices > 1]\n",
    "\n",
    "#  Print repeated fraud devices\n",
    "if not fraud_reused.empty:\n",
    "    print(\"\\nFraud devices used multiple times:\\n\")\n",
    "    print(fraud_reused)\n",
    "\n",
    "    #  Visualize with bar chart\n",
    "    plt.figure(figsize=(8, 4))\n",
    "    fraud_reused.sort_values(ascending=False).plot(\n",
    "        kind=\"bar\", color=\"red\", alpha=0.7\n",
    "    )\n",
    "    plt.xlabel(\"Device ID\")\n",
    "    plt.ylabel(\"Fraud Transaction Count\")\n",
    "    plt.title(\"Fraud Devices Used Multiple Times\")\n",
    "    plt.xticks(rotation=45, ha=\"right\")\n",
    "    plt.tight_layout()\n",
    "    plt.show()\n",
    "else:\n",
    "    print(\"\\nNo fraud devices used more than once.\")"
   ]
  },
  {
   "cell_type": "code",
   "execution_count": null,
   "id": "0b4f2f6b",
   "metadata": {},
   "outputs": [],
   "source": [
    "In fraud case multiple account are used via same fraud device"
   ]
  }
 ],
 "metadata": {
  "kernelspec": {
   "display_name": "Python 3",
   "language": "python",
   "name": "python3"
  },
  "language_info": {
   "codemirror_mode": {
    "name": "ipython",
    "version": 3
   },
   "file_extension": ".py",
   "mimetype": "text/x-python",
   "name": "python",
   "nbconvert_exporter": "python",
   "pygments_lexer": "ipython3",
   "version": "3.13.5"
  }
 },
 "nbformat": 4,
 "nbformat_minor": 5
}
